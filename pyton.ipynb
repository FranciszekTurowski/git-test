{
 "cells": [
  {
   "cell_type": "code",
   "execution_count": 59,
   "metadata": {},
   "outputs": [
    {
     "name": "stdout",
     "output_type": "stream",
     "text": [
      "400-500: 33\n",
      "300-400: 67\n"
     ]
    }
   ],
   "source": [
    "with open('praca.txt') as file:\n",
    " licznik_dobry = 0\n",
    " licznik_zle = 0\n",
    " for line in file:\n",
    "      date, time, ip, code = line.split()\n",
    "      if 200 <= int(code) <= 299:\n",
    "          licznik_dobry+=1\n",
    "      elif 400 <= int(code) < 599:\n",
    "          licznik_zle+=2   \n",
    "          \n",
    "      \n",
    "print(f'400-500: {licznik_dobry}')\n",
    "print(f'300-400: {licznik_zle}')\n",
    " \n",
    " "
   ]
  },
  {
   "cell_type": "code",
   "execution_count": 65,
   "metadata": {},
   "outputs": [
    {
     "name": "stdout",
     "output_type": "stream",
     "text": [
      "WITAJ wybierz co chcesz zrobić\n"
     ]
    }
   ],
   "source": [
    "import sys \n",
    "print(\"WITAJ wybierz co chcesz zrobić\")\n",
    "\n",
    "\n",
    "def add():\n",
    "    pass\n",
    "    \n",
    "\n",
    "def delete():\n",
    "    pass\n",
    " \n",
    " \n",
    " \n",
    "def print_info():\n",
    "    with open('praca.txt') as file:\n",
    "        for line in file.readlines():\n",
    "            \n",
    "            \n",
    "         print(line)\n",
    "         print(line)\n",
    "    \n",
    "    \n",
    "        "
   ]
  }
 ],
 "metadata": {
  "kernelspec": {
   "display_name": "Python 3",
   "language": "python",
   "name": "python3"
  },
  "language_info": {
   "codemirror_mode": {
    "name": "ipython",
    "version": 3
   },
   "file_extension": ".py",
   "mimetype": "text/x-python",
   "name": "python",
   "nbconvert_exporter": "python",
   "pygments_lexer": "ipython3",
   "version": "3.13.0"
  }
 },
 "nbformat": 4,
 "nbformat_minor": 2
}
