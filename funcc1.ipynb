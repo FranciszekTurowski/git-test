{
 "cells": [
  {
   "cell_type": "code",
   "execution_count": 16,
   "metadata": {},
   "outputs": [
    {
     "name": "stdout",
     "output_type": "stream",
     "text": [
      "Cześć John! Masz 26 lat\n",
      "Cześć Franczesco! Masz 35 lat\n",
      "Masz na nazwisko: Mauzer\n"
     ]
    }
   ],
   "source": [
    "#funkcje\n",
    "\n",
    "def hello(name,age, last_name = None):\n",
    "    print(f'Cześć {name}! Masz {age} lat')\n",
    "    if last_name is not None:\n",
    "     print(f'Masz na nazwisko: {last_name}')\n",
    "\n",
    "    \n",
    "\n",
    "hello('John',26)\n",
    "hello(age = 35, name = 'Franczesco', last_name = 'Mauzer')   "
   ]
  },
  {
   "cell_type": "code",
   "execution_count": 18,
   "metadata": {},
   "outputs": [
    {
     "data": {
      "text/plain": [
       "'JESTEM TEKSTEM DO ZMIANY'"
      ]
     },
     "execution_count": 18,
     "metadata": {},
     "output_type": "execute_result"
    }
   ],
   "source": [
    "def strip_and_uppercase(text):\n",
    "   return str(text).strip().upper()\n",
    "\n",
    "\n",
    "text = '    jestem tekstem DO ZmianY'\n",
    "text = strip_and_uppercase(text)\n",
    "text"
   ]
  },
  {
   "cell_type": "code",
   "execution_count": 21,
   "metadata": {},
   "outputs": [
    {
     "name": "stdout",
     "output_type": "stream",
     "text": [
      "Kraj: Francja\n",
      "Stolica: Paryż\n",
      "Liczba mieszkańców 57\n"
     ]
    }
   ],
   "source": [
    "countries_information = {}\n",
    "countries_information['Polska'] = ('Warszawa', 38)\n",
    "countries_information['Niemcy'] = ('Berlin',83)\n",
    "countries_information['Francja'] = ('Paryż',57)\n",
    "\n",
    "def print_country_information(country):\n",
    "    print('Kraj: '+ country)\n",
    "    print('Stolica: '+countries_information[country][0])\n",
    "    print('Liczba mieszkańców '+str(countries_information[country][1]))\n",
    "    \n",
    "print_country_information('Francja')    "
   ]
  },
  {
   "cell_type": "code",
   "execution_count": 25,
   "metadata": {},
   "outputs": [
    {
     "data": {
      "text/plain": [
       "False"
      ]
     },
     "execution_count": 25,
     "metadata": {},
     "output_type": "execute_result"
    }
   ],
   "source": [
    "#klasy\n",
    "\n",
    "class User:\n",
    "    def __init__(self,name,mail,age):\n",
    "        self.name = name\n",
    "        self.mail = mail\n",
    "        self.age = age\n",
    "        \n",
    "    def print_info(self):\n",
    "        print(self.name)\n",
    "        print(self.mail)\n",
    "        print(self.age)\n",
    "        \n",
    "    def is_male(self):\n",
    "        if self.name.endswith('a'):\n",
    "            return False\n",
    "        return True    \n",
    "        \n",
    "user1 = User('Agniecha','Franz@programuj.com',26)   \n",
    "user1.is_male()"
   ]
  },
  {
   "cell_type": "code",
   "execution_count": 94,
   "metadata": {},
   "outputs": [
    {
     "data": {
      "text/plain": [
       "0"
      ]
     },
     "execution_count": 94,
     "metadata": {},
     "output_type": "execute_result"
    }
   ],
   "source": [
    "# ZADANIA 2\n",
    "# def add_numbers(a,b):\n",
    "#     return a+b\n",
    "\n",
    "# add_numbers(2,3)\n",
    " \n",
    "\n",
    "def is_even(number):\n",
    "    if number % 2 == 0:\n",
    "        return True\n",
    "    return False\n",
    "\n",
    "\n",
    "def factorial(n):\n",
    "    if n < 2:\n",
    "        return 1\n",
    "    else:\n",
    "        return n* factorial(n-1)\n",
    "\n",
    "def reverse_string(s):\n",
    "    return s[::-1]\n",
    "\n",
    "    \n",
    "def is_polindrome(s):\n",
    "    if s[::-1] == s[0::]:\n",
    "        return True\n",
    "    return False\n",
    "    \n",
    "def celsius_to_fahrenheit(c):\n",
    "          f = c * (9/5) + 32\n",
    "          return f\n",
    "      \n",
    "def fibonacci(n):\n",
    "    if n == 0:\n",
    "        return 0\n",
    "    if n == 1:\n",
    "        return 1\n",
    "    else:\n",
    "        return fibonacci(n-1)+fibonacci(n-2)\n",
    "    \n",
    "def infos(name,age):\n",
    "    print(f'Nazywam się: {name}, mam {age} lat')    \n",
    "    \n",
    "def example_2_letters_text(s):\n",
    "    return s[::2]\n",
    "\n",
    "def example_numbers(number):\n",
    "    if number > 0:\n",
    "        return 1\n",
    "    if number == 0:\n",
    "        return 0\n",
    "    if number < 0:\n",
    "        return -1\n",
    "    \n",
    "def day_of_week(day):\n",
    "    match day:  \n",
    "     case 1:\n",
    "         return 'Poniedziałek'\n",
    "     case 2:\n",
    "         return 'Wtorek'\n",
    "     case 3:\n",
    "         return 'Środa'\n",
    "     case 4:\n",
    "         return 'Czwartek'\n",
    "     case 5:\n",
    "         return 'Piątek'\n",
    "     case 6:\n",
    "         return 'Wtorek'\n",
    "     case 7:\n",
    "         return 'Poniedziałek'\n",
    "     case _:\n",
    "         return 'Nieprawidłowy dzień tygodnia'\n",
    "  \n",
    "\n"
   ]
  },
  {
   "cell_type": "code",
   "execution_count": 6,
   "metadata": {},
   "outputs": [
    {
     "ename": "TypeError",
     "evalue": "'int' object is not iterable",
     "output_type": "error",
     "traceback": [
      "\u001b[1;31m---------------------------------------------------------------------------\u001b[0m",
      "\u001b[1;31mTypeError\u001b[0m                                 Traceback (most recent call last)",
      "Cell \u001b[1;32mIn[6], line 4\u001b[0m\n\u001b[0;32m      1\u001b[0m \u001b[38;5;28;01mdef\u001b[39;00m \u001b[38;5;21msum_of_two\u001b[39m(zb1, zb2):\n\u001b[0;32m      2\u001b[0m    \u001b[38;5;28mprint\u001b[39m(\u001b[38;5;28mset\u001b[39m(zb1)\u001b[38;5;241m+\u001b[39m\u001b[38;5;28mset\u001b[39m(zb2))\n\u001b[1;32m----> 4\u001b[0m \u001b[43msum_of_two\u001b[49m\u001b[43m(\u001b[49m\u001b[38;5;241;43m33\u001b[39;49m\u001b[43m,\u001b[49m\u001b[38;5;241;43m21\u001b[39;49m\u001b[43m)\u001b[49m   \n\u001b[0;32m      5\u001b[0m \u001b[38;5;28mprint\u001b[39m(sum_of_two(\u001b[38;5;241m33\u001b[39m,\u001b[38;5;241m21\u001b[39m))\n",
      "Cell \u001b[1;32mIn[6], line 2\u001b[0m, in \u001b[0;36msum_of_two\u001b[1;34m(zb1, zb2)\u001b[0m\n\u001b[0;32m      1\u001b[0m \u001b[38;5;28;01mdef\u001b[39;00m \u001b[38;5;21msum_of_two\u001b[39m(zb1, zb2):\n\u001b[1;32m----> 2\u001b[0m    \u001b[38;5;28mprint\u001b[39m(\u001b[38;5;28;43mset\u001b[39;49m\u001b[43m(\u001b[49m\u001b[43mzb1\u001b[49m\u001b[43m)\u001b[49m\u001b[38;5;241m+\u001b[39m\u001b[38;5;28mset\u001b[39m(zb2))\n",
      "\u001b[1;31mTypeError\u001b[0m: 'int' object is not iterable"
     ]
    }
   ],
   "source": [
    "\n",
    "def sum_of_two(zb1, zb2):\n",
    "   print(set(zb1)+set(zb2))\n",
    "\n",
    "sum_of_two(33,21)   \n",
    "print(sum_of_two(33,21))"
   ]
  }
 ],
 "metadata": {
  "kernelspec": {
   "display_name": "Python 3",
   "language": "python",
   "name": "python3"
  },
  "language_info": {
   "codemirror_mode": {
    "name": "ipython",
    "version": 3
   },
   "file_extension": ".py",
   "mimetype": "text/x-python",
   "name": "python",
   "nbconvert_exporter": "python",
   "pygments_lexer": "ipython3",
   "version": "3.13.0"
  }
 },
 "nbformat": 4,
 "nbformat_minor": 2
}
