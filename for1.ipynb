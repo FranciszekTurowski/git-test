{
 "cells": [
  {
   "cell_type": "code",
   "execution_count": null,
   "metadata": {},
   "outputs": [],
   "source": [
    "#Program znajdujący liczby pierwsze\n",
    "def czy_pierwsza(n):\n",
    "    if n < 2:\n",
    "        return False\n",
    "    for i in range(2, int(n**0.5) + 1):\n",
    "        if n % i == 0:\n",
    "            return False\n",
    "    return True\n",
    "\n",
    "czy_pierwsza(17)\n",
    "\n",
    "for i in range(1,101):\n",
    "    if i % 2 != 0:\n",
    "        continue\n",
    "    else:\n",
    "     print(i)\n",
    "\n"
   ]
  },
  {
   "cell_type": "code",
   "execution_count": null,
   "metadata": {},
   "outputs": [],
   "source": [
    "# 1 Sposób suma liczb parzystych\n",
    "wynik = 0\n",
    "for i in range (1,101):\n",
    "    if i % 2 != 0:\n",
    "        continue\n",
    "    else:\n",
    "     wynik+=i\n",
    "    #  print(wynik)\n",
    "     \n",
    "# 2 Sposób suma liczb parzystych\n",
    "wynik = 0\n",
    "for i in range (0,101,2):\n",
    "    if i % 2 == 0:\n",
    "      wynik += i\n",
    "      print(wynik)\n",
    "    else: print(\"LIPA\")  \n",
    "         \n",
    "     "
   ]
  },
  {
   "cell_type": "code",
   "execution_count": null,
   "metadata": {},
   "outputs": [],
   "source": [
    "for i in range(2,101):\n",
    "    is_Prime = True\n",
    "    \n",
    "    for j in range(2,i):\n",
    "        if i % j == 0:\n",
    "         is_Prime = False\n",
    "         break\n",
    "    if is_Prime:\n",
    "        print(i)    \n",
    "            "
   ]
  },
  {
   "cell_type": "code",
   "execution_count": null,
   "metadata": {},
   "outputs": [],
   "source": [
    "# FUNKCJA LICZĄCA POLE PROSTOKĄTA \n",
    "def pole_prostokata(a,b):\n",
    "    return a * b\n",
    "\n",
    "a = int(input(\"Podaj bok a\"))\n",
    "b = int(input(\"Podaj bok b\"))\n",
    "\n",
    "wynik = pole_prostokata(a,b)\n",
    "\n",
    "print(wynik)"
   ]
  },
  {
   "cell_type": "code",
   "execution_count": 36,
   "metadata": {},
   "outputs": [
    {
     "name": "stdout",
     "output_type": "stream",
     "text": [
      "To męskie imie\n"
     ]
    }
   ],
   "source": [
    "# Jeśli imię kończy się na 'a'\n",
    "imie = input(\"Podaj imie :] \")\n",
    "\n",
    "if imie.endswith(\"a\"):\n",
    "    print(\"To kobiece imie\")\n",
    "else: print(\"To męskie imie\")    \n",
    "\n",
    "\n",
    "# while dopóki\n",
    "\n",
    "name = None\n",
    "while name != 'Franek':\n",
    "    name = input(\"Podaj imie :\")"
   ]
  },
  {
   "cell_type": "code",
   "execution_count": null,
   "metadata": {},
   "outputs": [],
   "source": [
    "# Max z 3 liczb\n",
    "a = int(input(\"Podaj 1 liczbe\"))\n",
    "b = int(input(\"Podaj 2 liczbe\"))\n",
    "c = int(input(\"Podaj 3 liczbe\"))\n",
    "największa = a\n",
    "\n",
    "# 10, 20, -1\n",
    "\n",
    "if b > największa:\n",
    "    największa = b\n",
    "if c > największa:\n",
    "    największa = c\n",
    "          \n",
    "print(największa) \n",
    "   "
   ]
  },
  {
   "cell_type": "code",
   "execution_count": 167,
   "metadata": {},
   "outputs": [
    {
     "name": "stdout",
     "output_type": "stream",
     "text": [
      "*\n",
      "**\n",
      "***\n",
      "****\n",
      "*****\n"
     ]
    }
   ],
   "source": [
    "# trójkąt z gwiazdek :D\n",
    "for i in range(1,6):\n",
    "    for j in range(0,i):\n",
    "        print(\"*\",end=\"\")\n",
    "    print()"
   ]
  },
  {
   "cell_type": "code",
   "execution_count": 166,
   "metadata": {},
   "outputs": [
    {
     "name": "stdout",
     "output_type": "stream",
     "text": [
      "******\n",
      "*****\n",
      "****\n",
      "***\n",
      "**\n",
      "*\n"
     ]
    }
   ],
   "source": [
    "# odwrócony trójkąt z gwiazdek :D\n",
    "for i in range(6,0,-1):\n",
    "    for j in range(0,i):\n",
    "        print(\"*\",end=\"\")\n",
    "    print()    "
   ]
  },
  {
   "cell_type": "code",
   "execution_count": null,
   "metadata": {},
   "outputs": [],
   "source": [
    "# TABLICZKA MNOŻENIA :D\n",
    "for i in range(1,11):\n",
    "    for j in range(1,11):\n",
    "        print(i*j,end=\" \")\n",
    "    print()    \n",
    "        "
   ]
  },
  {
   "cell_type": "code",
   "execution_count": 165,
   "metadata": {},
   "outputs": [
    {
     "name": "stdout",
     "output_type": "stream",
     "text": [
      "A\n",
      "BB\n",
      "CCC\n",
      "DDDD\n",
      "EEEEE\n",
      "FFFFFF\n"
     ]
    }
   ],
   "source": [
    "#Piramida z kolejnych liter :D\n",
    "for i in range(6):\n",
    "    for j in range(i+1):\n",
    "        print(chr(65+i),end=\"\")\n",
    "    print()    "
   ]
  },
  {
   "cell_type": "code",
   "execution_count": 164,
   "metadata": {},
   "outputs": [
    {
     "name": "stdout",
     "output_type": "stream",
     "text": [
      "a\n",
      "bb\n",
      "ccc\n",
      "dddd\n",
      "eeeee\n",
      "ffffff\n",
      "ggggggg\n",
      "hhhhhhhh\n",
      "iiiiiiiii\n",
      "jjjjjjjjjj\n"
     ]
    }
   ],
   "source": [
    "for i in range(10):\n",
    "    for j in range(i+1):\n",
    "        print(chr(97+i),end=\"\")\n",
    "    print()    "
   ]
  },
  {
   "cell_type": "code",
   "execution_count": null,
   "metadata": {},
   "outputs": [],
   "source": [
    "# Prostokąt z gwiazdek!\n",
    "for i in range(1,6):\n",
    "    for j in range(1,8):\n",
    "        print(j,end=\" \")\n",
    "    print()    "
   ]
  },
  {
   "cell_type": "code",
   "execution_count": 162,
   "metadata": {},
   "outputs": [
    {
     "name": "stdout",
     "output_type": "stream",
     "text": [
      "    1 \n",
      "   2 2 \n",
      "  3 3 3 \n",
      " 4 4 4 4 \n",
      "5 5 5 5 5 \n"
     ]
    }
   ],
   "source": [
    "#Wyśrodkowana piramida z gwiazdek\n",
    "\n",
    "for i in range (1,6):\n",
    "    for j in range (5-i):\n",
    "        print(\" \",end=\"\")\n",
    "        \n",
    "    for k in range (i):\n",
    "        print(i,end=\" \")  \n",
    "    \n",
    "    print()    \n",
    "        \n",
    "        \n",
    "        \n",
    "        \n",
    "        "
   ]
  },
  {
   "cell_type": "code",
   "execution_count": 132,
   "metadata": {},
   "outputs": [
    {
     "name": "stdout",
     "output_type": "stream",
     "text": [
      "    * \n",
      "   2 2 \n",
      "  * * * \n",
      " 4 4 4 4 \n",
      "* * * * * \n"
     ]
    }
   ],
   "source": [
    "for i in range(1,6):\n",
    "    for j in range(5-i):\n",
    "        print(\" \",end=\"\")\n",
    "        \n",
    "    for k in range(i):\n",
    "        if i % 2 == 0:\n",
    "            print(i,end=\" \")\n",
    "        else: print(\"*\",end=\" \")     \n",
    "    print()       "
   ]
  },
  {
   "cell_type": "code",
   "execution_count": 134,
   "metadata": {},
   "outputs": [
    {
     "name": "stdout",
     "output_type": "stream",
     "text": [
      "     1 \n",
      "    2 2 \n",
      "   3 3 3 \n",
      "  4 4 4 4 \n",
      " 5 5 5 5 5 \n"
     ]
    }
   ],
   "source": [
    "for i in range (1,6):\n",
    "    for j in range (6-i):\n",
    "        print(\" \",end=\"\")\n",
    "        \n",
    "    for k in range (i):\n",
    "        print(i,end=\" \")  \n",
    "    \n",
    "    print()    "
   ]
  },
  {
   "cell_type": "code",
   "execution_count": 170,
   "metadata": {},
   "outputs": [
    {
     "name": "stdout",
     "output_type": "stream",
     "text": [
      "     X \n",
      "    O O \n",
      "   X X X \n",
      "  O O O O \n",
      " X X X X X \n",
      "O O O O O O \n"
     ]
    }
   ],
   "source": [
    "for i in range (1,7):\n",
    "    for j in range (6-i):\n",
    "        print(\" \",end=\"\")\n",
    "        \n",
    "    for k in range (i):\n",
    "        if i % 2 != 0:\n",
    "            print(\"X\",end=\" \")  \n",
    "        else: print (\"O\",end=\" \")\n",
    "    \n",
    "    print()    "
   ]
  },
  {
   "cell_type": "code",
   "execution_count": 174,
   "metadata": {},
   "outputs": [
    {
     "name": "stdout",
     "output_type": "stream",
     "text": [
      "6 6 6 6 6 6 \n",
      " 5 5 5 5 5 \n",
      "  4 4 4 4 \n",
      "   3 3 3 \n",
      "    2 2 \n",
      "     1 \n"
     ]
    }
   ],
   "source": [
    "for i in range(6,0,-1):\n",
    "    for j in range(6-i):\n",
    "        print(\" \",end=\"\")\n",
    "    \n",
    "    for k in range(i):\n",
    "        print(i,end=\" \")\n",
    "        \n",
    "    print()            "
   ]
  },
  {
   "cell_type": "code",
   "execution_count": 188,
   "metadata": {},
   "outputs": [
    {
     "name": "stdout",
     "output_type": "stream",
     "text": [
      "F r a n e k "
     ]
    }
   ],
   "source": [
    "imie = \"Franek\"\n",
    "\n",
    "for i in imie:\n",
    "    print((i),end=\" \")"
   ]
  },
  {
   "cell_type": "code",
   "execution_count": 189,
   "metadata": {},
   "outputs": [
    {
     "name": "stdout",
     "output_type": "stream",
     "text": [
      "Znak na pozycji 0: P\n",
      "Znak na pozycji 1: y\n",
      "Znak na pozycji 2: t\n",
      "Znak na pozycji 3: h\n",
      "Znak na pozycji 4: o\n",
      "Znak na pozycji 5: n\n"
     ]
    }
   ],
   "source": [
    "tekst = \"Python\"\n",
    "for indeks, znak in enumerate(tekst):\n",
    "    print(f\"Znak na pozycji {indeks}: {znak}\")\n"
   ]
  },
  {
   "cell_type": "code",
   "execution_count": null,
   "metadata": {},
   "outputs": [
    {
     "name": "stdout",
     "output_type": "stream",
     "text": [
      "Za mała!\n",
      "Za duza liczba\n",
      "Za duza liczba\n",
      "Trafiłeś!\n"
     ]
    }
   ],
   "source": [
    "import random\n",
    "\n",
    "liczba =  random.randint(1,100)\n",
    "wybor = None\n",
    "\n",
    "while wybor != liczba:\n",
    "    wybor = int(input(\"Podaj liczbę:\"))\n",
    "    if wybor > liczba:\n",
    "        print(\"Za duza liczba\")\n",
    "    elif wybor < liczba:\n",
    "        print(\"Za mała!\")\n",
    "    else:\n",
    "        print(\"Trafiłeś!\")  \n",
    "        \n",
    "              "
   ]
  }
 ],
 "metadata": {
  "kernelspec": {
   "display_name": "Python 3",
   "language": "python",
   "name": "python3"
  },
  "language_info": {
   "codemirror_mode": {
    "name": "ipython",
    "version": 3
   },
   "file_extension": ".py",
   "mimetype": "text/x-python",
   "name": "python",
   "nbconvert_exporter": "python",
   "pygments_lexer": "ipython3",
   "version": "3.13.0"
  }
 },
 "nbformat": 4,
 "nbformat_minor": 2
}
