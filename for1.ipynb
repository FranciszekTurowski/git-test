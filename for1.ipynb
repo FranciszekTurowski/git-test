{
 "cells": [
  {
   "cell_type": "code",
   "execution_count": null,
   "metadata": {},
   "outputs": [],
   "source": [
    "#Program znajdujący liczby pierwsze\n",
    "def czy_pierwsza(n):\n",
    "    if n < 2:\n",
    "        return False\n",
    "    for i in range(2, int(n**0.5) + 1):\n",
    "        if n % i == 0:\n",
    "            return False\n",
    "    return True\n",
    "\n",
    "czy_pierwsza(17)\n",
    "\n",
    "for i in range(1,101):\n",
    "    if i % 2 != 0:\n",
    "        continue\n",
    "    else:\n",
    "     print(i)\n",
    "\n"
   ]
  },
  {
   "cell_type": "code",
   "execution_count": null,
   "metadata": {},
   "outputs": [],
   "source": [
    "# 1 Sposób suma liczb parzystych\n",
    "wynik = 0\n",
    "for i in range (1,101):\n",
    "    if i % 2 != 0:\n",
    "        continue\n",
    "    else:\n",
    "     wynik+=i\n",
    "    #  print(wynik)\n",
    "     \n",
    "# 2 Sposób suma liczb parzystych\n",
    "wynik = 0\n",
    "for i in range (0,101,2):\n",
    "    if i % 2 == 0:\n",
    "      wynik += i\n",
    "      print(wynik)\n",
    "    else: print(\"LIPA\")  \n",
    "         \n",
    "     "
   ]
  },
  {
   "cell_type": "code",
   "execution_count": null,
   "metadata": {},
   "outputs": [],
   "source": [
    "for i in range(2,101):\n",
    "    is_Prime = True\n",
    "    \n",
    "    for j in range(2,i):\n",
    "        if i % j == 0:\n",
    "         is_Prime = False\n",
    "         break\n",
    "    if is_Prime:\n",
    "        print(i)    \n",
    "            "
   ]
  },
  {
   "cell_type": "code",
   "execution_count": null,
   "metadata": {},
   "outputs": [],
   "source": [
    "# FUNKCJA LICZĄCA POLE PROSTOKĄTA \n",
    "def pole_prostokata(a,b):\n",
    "    return a * b\n",
    "\n",
    "a = int(input(\"Podaj bok a\"))\n",
    "b = int(input(\"Podaj bok b\"))\n",
    "\n",
    "wynik = pole_prostokata(a,b)\n",
    "\n",
    "print(wynik)"
   ]
  },
  {
   "cell_type": "code",
   "execution_count": 36,
   "metadata": {},
   "outputs": [
    {
     "name": "stdout",
     "output_type": "stream",
     "text": [
      "To męskie imie\n"
     ]
    }
   ],
   "source": [
    "# Jeśli imię kończy się na 'a'\n",
    "imie = input(\"Podaj imie :] \")\n",
    "\n",
    "if imie.endswith(\"a\"):\n",
    "    print(\"To kobiece imie\")\n",
    "else: print(\"To męskie imie\")    \n",
    "\n",
    "\n",
    "# while dopóki\n",
    "\n",
    "name = None\n",
    "while name != 'Franek':\n",
    "    name = input(\"Podaj imie :\")"
   ]
  },
  {
   "cell_type": "code",
   "execution_count": null,
   "metadata": {},
   "outputs": [],
   "source": [
    "# xMax z 3 liczb\n",
    "a = int(input(\"Podaj 1 liczbe\"))\n",
    "b = int(input(\"Podaj 2 liczbe\"))\n",
    "c = int(input(\"Podaj 3 liczbe\"))\n",
    "największa = a\n",
    "\n",
    "# 10, 20, -1\n",
    "\n",
    "if b > największa:\n",
    "    największa = b\n",
    "if c > największa:\n",
    "    największa = c\n",
    "          \n",
    "print(największa) \n",
    "   "
   ]
  },
  {
   "cell_type": "code",
   "execution_count": 167,
   "metadata": {},
   "outputs": [
    {
     "name": "stdout",
     "output_type": "stream",
     "text": [
      "*\n",
      "**\n",
      "***\n",
      "****\n",
      "*****\n"
     ]
    }
   ],
   "source": [
    "# trójkąt z gwiazdek :D\n",
    "for i in range(1,6):\n",
    "    for j in range(0,i):\n",
    "        print(\"*\",end=\"\")\n",
    "    print()"
   ]
  },
  {
   "cell_type": "code",
   "execution_count": 166,
   "metadata": {},
   "outputs": [
    {
     "name": "stdout",
     "output_type": "stream",
     "text": [
      "******\n",
      "*****\n",
      "****\n",
      "***\n",
      "**\n",
      "*\n"
     ]
    }
   ],
   "source": [
    "# odwrócony trójkąt z gwiazdek :D\n",
    "for i in range(6,0,-1):\n",
    "    for j in range(0,i):\n",
    "        print(\"*\",end=\"\")\n",
    "    print()    "
   ]
  },
  {
   "cell_type": "code",
   "execution_count": null,
   "metadata": {},
   "outputs": [],
   "source": [
    "# TABLICZKA MNOŻENIA :D\n",
    "for i in range(1,11):\n",
    "    for j in range(1,11):\n",
    "        print(i*j,end=\" \")\n",
    "    print()    \n",
    "        "
   ]
  },
  {
   "cell_type": "code",
   "execution_count": 165,
   "metadata": {},
   "outputs": [
    {
     "name": "stdout",
     "output_type": "stream",
     "text": [
      "A\n",
      "BB\n",
      "CCC\n",
      "DDDD\n",
      "EEEEE\n",
      "FFFFFF\n"
     ]
    }
   ],
   "source": [
    "#Piramida z kolejnych liter :D\n",
    "for i in range(6):\n",
    "    for j in range(i+1):\n",
    "        print(chr(65+i),end=\"\")\n",
    "    print()    "
   ]
  },
  {
   "cell_type": "code",
   "execution_count": 164,
   "metadata": {},
   "outputs": [
    {
     "name": "stdout",
     "output_type": "stream",
     "text": [
      "a\n",
      "bb\n",
      "ccc\n",
      "dddd\n",
      "eeeee\n",
      "ffffff\n",
      "ggggggg\n",
      "hhhhhhhh\n",
      "iiiiiiiii\n",
      "jjjjjjjjjj\n"
     ]
    }
   ],
   "source": [
    "for i in range(10):\n",
    "    for j in range(i+1):\n",
    "        print(chr(97+i),end=\"\")\n",
    "    print()    "
   ]
  },
  {
   "cell_type": "code",
   "execution_count": null,
   "metadata": {},
   "outputs": [],
   "source": [
    "# Prostokąt z gwiazdek!\n",
    "for i in range(1,6):\n",
    "    for j in range(1,8):\n",
    "        print(j,end=\" \")\n",
    "    print()    "
   ]
  },
  {
   "cell_type": "code",
   "execution_count": 162,
   "metadata": {},
   "outputs": [
    {
     "name": "stdout",
     "output_type": "stream",
     "text": [
      "    1 \n",
      "   2 2 \n",
      "  3 3 3 \n",
      " 4 4 4 4 \n",
      "5 5 5 5 5 \n"
     ]
    }
   ],
   "source": [
    "#Wyśrodkowana piramida z gwiazdek\n",
    "\n",
    "for i in range (1,6):\n",
    "    for j in range (5-i):\n",
    "        print(\" \",end=\"\")\n",
    "        \n",
    "    for k in range (i):\n",
    "        print(i,end=\" \")  \n",
    "    \n",
    "    print()    \n",
    "        \n",
    "        \n",
    "        \n",
    "        \n",
    "        "
   ]
  },
  {
   "cell_type": "code",
   "execution_count": 132,
   "metadata": {},
   "outputs": [
    {
     "name": "stdout",
     "output_type": "stream",
     "text": [
      "    * \n",
      "   2 2 \n",
      "  * * * \n",
      " 4 4 4 4 \n",
      "* * * * * \n"
     ]
    }
   ],
   "source": [
    "for i in range(1,6):\n",
    "    for j in range(5-i):\n",
    "        print(\" \",end=\"\")\n",
    "        \n",
    "    for k in range(i):\n",
    "        if i % 2 == 0:\n",
    "            print(i,end=\" \")\n",
    "        else: print(\"*\",end=\" \")     \n",
    "    print()       "
   ]
  },
  {
   "cell_type": "code",
   "execution_count": 134,
   "metadata": {},
   "outputs": [
    {
     "name": "stdout",
     "output_type": "stream",
     "text": [
      "     1 \n",
      "    2 2 \n",
      "   3 3 3 \n",
      "  4 4 4 4 \n",
      " 5 5 5 5 5 \n"
     ]
    }
   ],
   "source": [
    "for i in range (1,6):\n",
    "    for j in range (6-i):\n",
    "        print(\" \",end=\"\")\n",
    "        \n",
    "    for k in range (i):\n",
    "        print(i,end=\" \")  \n",
    "    \n",
    "    print()    "
   ]
  },
  {
   "cell_type": "code",
   "execution_count": 170,
   "metadata": {},
   "outputs": [
    {
     "name": "stdout",
     "output_type": "stream",
     "text": [
      "     X \n",
      "    O O \n",
      "   X X X \n",
      "  O O O O \n",
      " X X X X X \n",
      "O O O O O O \n"
     ]
    }
   ],
   "source": [
    "for i in range (1,7):\n",
    "    for j in range (6-i):\n",
    "        print(\" \",end=\"\")\n",
    "        \n",
    "    for k in range (i):\n",
    "        if i % 2 != 0:\n",
    "            print(\"X\",end=\" \")  \n",
    "        else: print (\"O\",end=\" \")\n",
    "    \n",
    "    print()    "
   ]
  },
  {
   "cell_type": "code",
   "execution_count": 1,
   "metadata": {},
   "outputs": [
    {
     "name": "stdout",
     "output_type": "stream",
     "text": [
      "6 6 6 6 6 6 \n",
      " 5 5 5 5 5 \n",
      "  4 4 4 4 \n",
      "   3 3 3 \n",
      "    2 2 \n",
      "     1 \n"
     ]
    }
   ],
   "source": [
    "for i in range(6,0,-1):\n",
    "    for j in range(6-i):\n",
    "        print(\" \",end=\"\")\n",
    "    \n",
    "    for k in range(i):\n",
    "        print(i,end=\" \")\n",
    "        \n",
    "    print()            "
   ]
  },
  {
   "cell_type": "code",
   "execution_count": 188,
   "metadata": {},
   "outputs": [
    {
     "name": "stdout",
     "output_type": "stream",
     "text": [
      "F r a n e k "
     ]
    }
   ],
   "source": [
    "imie = \"Franek\"\n",
    "\n",
    "for i in imie:\n",
    "    print((i),end=\" \")"
   ]
  },
  {
   "cell_type": "code",
   "execution_count": 189,
   "metadata": {},
   "outputs": [
    {
     "name": "stdout",
     "output_type": "stream",
     "text": [
      "Znak na pozycji 0: P\n",
      "Znak na pozycji 1: y\n",
      "Znak na pozycji 2: t\n",
      "Znak na pozycji 3: h\n",
      "Znak na pozycji 4: o\n",
      "Znak na pozycji 5: n\n"
     ]
    }
   ],
   "source": [
    "tekst = \"Python\"\n",
    "for indeks, znak in enumerate(tekst):\n",
    "    print(f\"Znak na pozycji {indeks}: {znak}\")\n"
   ]
  },
  {
   "cell_type": "code",
   "execution_count": null,
   "metadata": {},
   "outputs": [
    {
     "name": "stdout",
     "output_type": "stream",
     "text": [
      "Za mała!\n",
      "Za duza liczba\n",
      "Za duza liczba\n",
      "Trafiłeś!\n"
     ]
    }
   ],
   "source": [
    "import random\n",
    "\n",
    "liczba =  random.randint(1,100)\n",
    "wybor = None\n",
    "\n",
    "while wybor != liczba:\n",
    "    wybor = int(input(\"Podaj liczbę:\"))\n",
    "    if wybor > liczba:\n",
    "        print(\"Za duza liczba\")\n",
    "    elif wybor < liczba:\n",
    "        print(\"Za mała!\")\n",
    "    else:\n",
    "        print(\"Trafiłeś!\")  \n",
    "        \n",
    "              "
   ]
  },
  {
   "cell_type": "code",
   "execution_count": 259,
   "metadata": {},
   "outputs": [
    {
     "name": "stdout",
     "output_type": "stream",
     "text": [
      "['Franek', 'Dominik', 'Kamil', 'Dominik']\n",
      "['Franek', 'Dominik', 'Kamil', 'Dominik', 'Franz', 'Dominbik', 'Kamvil']\n",
      "Kamil\n",
      "Franek Dominik Kamil Dominik Franz Dominbik Kamvil 0\n",
      "5\n",
      "['Dominbik', 'Franek', 'Franz', 'Kamil', 'Kamvil']\n",
      "['Kamvil', 'Kamil', 'Franz', 'Franek', 'Dominbik']\n"
     ]
    }
   ],
   "source": [
    "#TO SĄ LISTY\n",
    "\n",
    "names = ['Franek','Dominik','Kamil']\n",
    "names.append('Dominik')\n",
    "\n",
    "print(names)\n",
    "\n",
    "names.extend(['Franjjek','Dominbik','Kamvil'])\n",
    "names[4] = 'Franz'\n",
    "print(names)\n",
    "print(names[2])\n",
    "\n",
    "for name in names:\n",
    "    print(name,end=\" \")\n",
    "del names[1]\n",
    "names.remove('Dominik')\n",
    "print(names.count('Dominik'))\n",
    "print(len(names))\n",
    "\n",
    "names.sort()\n",
    "print(names)\n",
    "\n",
    "names.sort(reverse=True)\n",
    "print(names)"
   ]
  },
  {
   "cell_type": "code",
   "execution_count": 233,
   "metadata": {},
   "outputs": [
    {
     "name": "stdout",
     "output_type": "stream",
     "text": [
      "{'Tomek', 'Mariusz', 'Ziomek', 'Kamil', 'Franz', 'Dominik'}\n"
     ]
    }
   ],
   "source": [
    "#Zbiory (SET)\n",
    "\n",
    "names = {'Kamil','Mariusz','Dominik'}\n",
    "names.add('Franz')\n",
    "\n",
    "#print(names)\n",
    "\n",
    "# for name in names:\n",
    "#     print(name)\n",
    "\n",
    "names.update(['Tomek','Ziomek'])\n",
    "print(names)"
   ]
  },
  {
   "cell_type": "code",
   "execution_count": 245,
   "metadata": {},
   "outputs": [
    {
     "name": "stdout",
     "output_type": "stream",
     "text": [
      "<class 'set'>\n"
     ]
    }
   ],
   "source": [
    "names = {'Kamil','Ziomo','Franek','Paweł'}\n",
    "names2 = {'Kamil','Dzban','Wardaszka','Ziomo'}\n",
    "\n",
    "#Suma zbiorów - uniom\n",
    "# print(names.union(names2))\n",
    "# print(names | names2)\n",
    "\n",
    "#Różnica zbiorów - intersection\n",
    "# print(names.intersection(names2))\n",
    "# print(names & names2)\n",
    "\n",
    "#Różnica - difference\n",
    "# print(names.difference(names2))\n",
    "# print(names - names2)\n",
    "\n",
    "#Symetryczna róznica - symetric difference \n",
    "# print(names.symmetric_difference(names2))\n",
    "# print(names ^ names2)\n",
    "\n",
    "#Tworzenie pustego setu\n",
    "names = set()\n",
    "print(type(names))\n"
   ]
  },
  {
   "cell_type": "code",
   "execution_count": null,
   "metadata": {},
   "outputs": [],
   "source": [
    "phone_book = {\n",
    "    'Kamil': 100200300,\n",
    "    'Mariusz': 666777888,\n",
    "    'Dominik': 400400400\n",
    "}\n",
    "# print(phone_book.get('Kamil'))\n",
    "# print(phone_book['Kamil'])\n",
    "\n",
    "# phone_book['Asia'] = 111111111\n",
    "# print(phone_book)\n",
    "\n",
    "# deleted_phone_number = phone_book.pop('Kamill','Numer nie znaleziony')\n",
    "# print(deleted_phone_number)\n",
    "# print(phone_book)\n",
    "\n",
    "#klucze\n",
    "print(\"KLUCZE\")\n",
    "for element in phone_book:\n",
    "    print(element)\n",
    "\n",
    "print() \n",
    "print(\"WARTOŚCI\")   \n",
    "#wartości\n",
    "for element in phone_book.values():\n",
    "    print(element)  \n",
    "    \n",
    "print() \n",
    "#Klucze i wartości\n",
    "print(\"KLUCZE I WARTOŚCI\")\n",
    "for element in phone_book.items():  \n",
    "    print(element)   \n",
    "\n",
    "print() \n",
    " \n",
    "for name, phone_number in phone_book.items():\n",
    "    print(name + \":\" + str(phone_number))    "
   ]
  },
  {
   "cell_type": "code",
   "execution_count": null,
   "metadata": {},
   "outputs": [],
   "source": [
    "#Krotki - obiekty niemutowalne (niezmienialne)\n",
    "\n",
    "names = ('Kamil','Mariusz','Dominik')\n"
   ]
  },
  {
   "cell_type": "markdown",
   "metadata": {},
   "source": [
    "#ĆWICZENIE 2"
   ]
  },
  {
   "cell_type": "code",
   "execution_count": 272,
   "metadata": {},
   "outputs": [
    {
     "name": "stdout",
     "output_type": "stream",
     "text": [
      "1\n",
      "3\n",
      "6\n",
      "10\n",
      "15\n",
      "21\n",
      "28\n",
      "36\n",
      "45\n",
      "55\n"
     ]
    }
   ],
   "source": [
    "\n",
    "#ZAD 1\n",
    "\n",
    "lista = []\n",
    "\n",
    "lista.extend([1,2,3,4,5,6,7,8,9,10])\n",
    "sum_of_list = 0\n",
    "\n",
    "for i in lista:\n",
    "   # print(lista[i])\n",
    "    sum_of_list +=i\n",
    "    print(sum_of_list)\n",
    "    "
   ]
  },
  {
   "cell_type": "code",
   "execution_count": 310,
   "metadata": {},
   "outputs": [
    {
     "name": "stdout",
     "output_type": "stream",
     "text": [
      "['xcccccc', 'eeeeeeeee']\n"
     ]
    }
   ],
   "source": [
    "#ZAD2\n",
    "\n",
    "lista1 = ['aaaa','bbbb','xcccccc','zzxx','eeeeeeeee']\n",
    "\n",
    "#lista1.sort()\n",
    "\n",
    "#print(lista1)\n",
    "lista2 = []\n",
    "for element in lista1:\n",
    "    if len(element) > 5:\n",
    "      lista2.append(element)  \n",
    "      \n",
    "print(lista2)"
   ]
  },
  {
   "cell_type": "code",
   "execution_count": 4,
   "metadata": {},
   "outputs": [
    {
     "name": "stdout",
     "output_type": "stream",
     "text": [
      "64\n"
     ]
    }
   ],
   "source": [
    "imiona = [10,2,8,6,11,23,4]\n",
    "\n",
    "suma = 0\n",
    "\n",
    "for numbers in imiona:\n",
    "    suma += numbers\n",
    "    \n",
    "print(suma)"
   ]
  },
  {
   "cell_type": "code",
   "execution_count": 89,
   "metadata": {},
   "outputs": [
    {
     "name": "stdout",
     "output_type": "stream",
     "text": [
      "['kkkkkk', 'mmmmmmmmmm']\n"
     ]
    }
   ],
   "source": [
    "words = ['aaa','zz','vvvvv','kkkkkk','mmmmmmmmmm']\n",
    "\n",
    "words_more_than_5_letters = []\n",
    "\n",
    "for word in words:\n",
    "    if len(word) > 5:\n",
    "     words_more_than_5_letters.append(word)\n",
    "     \n",
    "print(words_more_than_5_letters)     "
   ]
  },
  {
   "cell_type": "code",
   "execution_count": 108,
   "metadata": {},
   "outputs": [
    {
     "name": "stdout",
     "output_type": "stream",
     "text": [
      "Największa liczba w liście [1, 64, 3, 100, 20, 23, 11, 333, 1001, 98] to: 1001, a najmniejsza to:  1\n"
     ]
    }
   ],
   "source": [
    "numbers = [1, 64, 3, 100, 20, 23,11,333,1001,98]\n",
    "\n",
    "smallest = numbers[0]\n",
    "largest = numbers[0]\n",
    "\n",
    "for number in numbers:\n",
    "    if number < smallest:\n",
    "        smallest = number\n",
    "    if number > largest:\n",
    "        largest = number\n",
    "print(f'Największa liczba w liście {numbers} to: {largest}, a najmniejsza to:  {smallest}')\n",
    "\n",
    "\n",
    "\n"
   ]
  },
  {
   "cell_type": "code",
   "execution_count": 112,
   "metadata": {},
   "outputs": [
    {
     "data": {
      "text/plain": [
       "{'Kamil', 'Mateusz', 'Łukasz'}"
      ]
     },
     "execution_count": 112,
     "metadata": {},
     "output_type": "execute_result"
    }
   ],
   "source": [
    "imiona1 = ['Franek','Kamil','Bartosz','Łukasz','Mateusz']\n",
    "imiona2 = ['Tomek','Aga','Julia','Bartosz','Franek']\n",
    "\n",
    "set(imiona1) & set(imiona2)\n",
    "set(imiona1) - set(imiona2)"
   ]
  },
  {
   "cell_type": "code",
   "execution_count": 130,
   "metadata": {},
   "outputs": [
    {
     "name": "stdout",
     "output_type": "stream",
     "text": [
      "{'Anglia': 'Londyn', 'Hiszpania': 'Madryt', 'Niemcy': 'Berlin', 'Polska': 'Warszawa', 'Włochy': 'Rzym'}\n",
      "Anglia - Londyn\n",
      "Hiszpania - Madryt\n",
      "Niemcy - Berlin\n",
      "Polska - Warszawa\n",
      "Włochy - Rzym\n"
     ]
    }
   ],
   "source": [
    "country_and_capitals = {\n",
    "    'Niemcy' : 'Berlin',\n",
    "    'Polska' : 'Warszawa',\n",
    "    'Hiszpania': 'Madryt',\n",
    "    'Włochy': 'Rzym',\n",
    "    'Anglia': 'Londyn'\n",
    "}\n",
    "\n",
    "\n",
    "# for country, capital in country_and_capitals.items():\n",
    "#     print(f'{country} - {capital}')\n",
    "    \n",
    "country_and_capitals = dict(sorted(country_and_capitals.items()))\n",
    "print(country_and_capitals)\n",
    "\n",
    "for country, capital in country_and_capitals.items():\n",
    "    print(f'{country} - {capital}')\n",
    "    \n",
    "    "
   ]
  },
  {
   "cell_type": "code",
   "execution_count": 139,
   "metadata": {},
   "outputs": [
    {
     "name": "stdout",
     "output_type": "stream",
     "text": [
      "{'Jak': 1, 'sie': 2, 'xd': 1}\n",
      "Jak: 1\n",
      "sie: 2\n",
      "xd: 1\n"
     ]
    }
   ],
   "source": [
    "text = input (\"Napisz tekst: \")\n",
    "words = text.split(\" \")\n",
    "\n",
    "words_count = {}\n",
    "\n",
    "for word in words:\n",
    "    if words_count.get(word) is not None:\n",
    "      words_count[word] +=1\n",
    "    else:\n",
    "        words_count[word] = 1\n",
    "print(words_count)\n",
    "\n",
    "\n",
    "for word,count in words_count.items():\n",
    "    print(f'{word}: {count}')\n",
    "    print(f'{word}: {count}')"
   ]
  }
 ],
 "metadata": {
  "kernelspec": {
   "display_name": "Python 3",
   "language": "python",
   "name": "python3"
  },
  "language_info": {
   "codemirror_mode": {
    "name": "ipython",
    "version": 3
   },
   "file_extension": ".py",
   "mimetype": "text/x-python",
   "name": "python",
   "nbconvert_exporter": "python",
   "pygments_lexer": "ipython3",
   "version": "3.13.0"
  }
 },
 "nbformat": 4,
 "nbformat_minor": 2
}
