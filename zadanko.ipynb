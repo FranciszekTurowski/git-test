{
 "cells": [
  {
   "cell_type": "code",
   "execution_count": 3,
   "metadata": {},
   "outputs": [
    {
     "name": "stdout",
     "output_type": "stream",
     "text": [
      "5 1\n"
     ]
    }
   ],
   "source": [
    "lista1 = [1,2,3,4,5]\n",
    "lista2 = [1,3,5,7,9]\n",
    "largest = lista1[0]\n",
    "smallest = lista1[0]\n",
    "\n",
    "for x in lista1:\n",
    "    if x > largest:\n",
    "        largest = x\n",
    "    if x < smallest:\n",
    "        smallest = x\n",
    "\n",
    "\n",
    "        "
   ]
  },
  {
   "cell_type": "code",
   "execution_count": 8,
   "metadata": {},
   "outputs": [
    {
     "data": {
      "text/plain": [
       "{10, 11, 150, 200}"
      ]
     },
     "execution_count": 8,
     "metadata": {},
     "output_type": "execute_result"
    }
   ],
   "source": [
    "zb1 = {1,10,15,100,200}\n",
    "zb2 = {1,11,15,100,150}\n",
    "\n",
    "wynik = zb1.union(zb2)\n",
    "wynik = zb1.difference(zb2)\n",
    "wynik = zb1.intersection(zb2)\n",
    "wynik = zb1.symmetric_difference(zb2)\n",
    "wynik\n"
   ]
  },
  {
   "cell_type": "code",
   "execution_count": 16,
   "metadata": {},
   "outputs": [
    {
     "name": "stdout",
     "output_type": "stream",
     "text": [
      "[('Hiszpania', 'Madryt'), ('Niemcy', 'Berlin'), ('Beliga', 'Bruksela'), ('Polska', 'Warszawa')]\n"
     ]
    }
   ],
   "source": [
    "def dicts(dict1,dict2):\n",
    "    \n",
    "    \n",
    "    return list(set((dict1.items())) | set(dict2.items()))\n",
    "\n",
    "dict1 = {\n",
    "    'Polska' : 'Warszawa',\n",
    "    'Niemcy' : 'Berlin',\n",
    "    'Hiszpania': 'Madryt',\n",
    "}\n",
    "\n",
    "dict2 = {\n",
    "    'Hiszpania' : 'Madryt',\n",
    "    'Beliga' : 'Bruksela',\n",
    "}\n",
    "\n",
    "result = dicts(dict1,dict2)\n",
    "print(result)\n"
   ]
  },
  {
   "cell_type": "code",
   "execution_count": 21,
   "metadata": {},
   "outputs": [
    {
     "name": "stdout",
     "output_type": "stream",
     "text": [
      "Romek Dzbanek Franek "
     ]
    }
   ],
   "source": [
    "lista_imion = ['Franek','Dzbanek','Romek']\n",
    "\n",
    "for list in range(len(lista_imion)-1,-1,-1):\n",
    "    print(lista_imion[list],end=\" \")"
   ]
  },
  {
   "cell_type": "code",
   "execution_count": 52,
   "metadata": {},
   "outputs": [
    {
     "name": "stdout",
     "output_type": "stream",
     "text": [
      "{'Jak': 1, 'nauczyć': 1, 'się': 2, 'programowania': 1}\n"
     ]
    }
   ],
   "source": [
    "word = 'Jak nauczyć się programowania się'\n",
    "word2 = word.split(\" \")\n",
    "\n",
    "word2_count = {}\n",
    "\n",
    "for w in word2:\n",
    "    if word2_count.get(w) is not None:\n",
    "        word2_count[w] += 1\n",
    "    else: \n",
    "        word2_count[w] = 1\n",
    "print(word2_count)\n",
    "        \n",
    "  \n",
    "\n"
   ]
  },
  {
   "cell_type": "code",
   "execution_count": 7,
   "metadata": {},
   "outputs": [
    {
     "name": "stdout",
     "output_type": "stream",
     "text": [
      "{'Jak': 1, 'jak': 1, 'sie': 2, 'xd': 1, 'franek': 1}\n"
     ]
    }
   ],
   "source": [
    "word1 = \"Jak jak sie sie xd franek\"\n",
    "word2 = word1.split(\" \")\n",
    "\n",
    "word_count = {}\n",
    "\n",
    "for w in word2:\n",
    "    if word_count.get(w) is not None:\n",
    "        word_count[w] += 1\n",
    "    else:\n",
    "        word_count[w] = 1\n",
    "        \n",
    "print(word_count)            "
   ]
  },
  {
   "cell_type": "code",
   "execution_count": 8,
   "metadata": {},
   "outputs": [
    {
     "name": "stdout",
     "output_type": "stream",
     "text": [
      "[1, 3]\n"
     ]
    }
   ],
   "source": [
    "lista1 = [1,2,3,4,3,1,6]\n",
    "\n",
    "duplikaty = []\n",
    "\n",
    "for l in lista1:\n",
    "    if lista1.count(l) > 1 and l not in duplikaty:\n",
    "        duplikaty.append(l)\n",
    "      \n",
    "      \n",
    "print(duplikaty)      "
   ]
  },
  {
   "cell_type": "code",
   "execution_count": 12,
   "metadata": {},
   "outputs": [],
   "source": [
    "def list_of_numbers(lista):\n",
    "    lista = [1,2,3,4,5,5,6,1,2]\n",
    "    duplikaty = []\n",
    "    \n",
    "    for l in lista:\n",
    "        if lista[l].count > 1 and l not in duplikaty:\n",
    "            duplikaty.append(l)\n",
    "    \n",
    "            \n",
    "    "
   ]
  },
  {
   "cell_type": "code",
   "execution_count": 10,
   "metadata": {},
   "outputs": [
    {
     "name": "stdout",
     "output_type": "stream",
     "text": [
      "{'Jak': 1, 'sie': 2, 'nauczyc': 1, 'xd': 1}\n"
     ]
    }
   ],
   "source": [
    "word1 = \"Jak sie sie nauczyc xd\"\n",
    "word2 = word1.split(\" \")\n",
    "\n",
    "word_count = {}\n",
    "    \n",
    "    \n",
    "for w in word2:\n",
    "    if word_count.get(w) is not None:\n",
    "        word_count[w] += 1\n",
    "    else:\n",
    "        word_count[w] = 1\n",
    "        \n",
    "print(word_count)                       "
   ]
  },
  {
   "cell_type": "code",
   "execution_count": 11,
   "metadata": {},
   "outputs": [
    {
     "name": "stdout",
     "output_type": "stream",
     "text": [
      "{'Jak': 1, 'sie': 2, 'nauczyc': 1, 'xd': 1}\n"
     ]
    }
   ],
   "source": [
    "word1 = \"Jak sie sie nauczyc xd\"\n",
    "word2 = word1.split(\" \")\n",
    "\n",
    "word_count = {}\n",
    "    \n",
    "for w in word2:\n",
    "    if w in word_count:\n",
    "        word_count[w] += 1\n",
    "    else:\n",
    "        word_count[w] = 1\n",
    "        \n",
    "print(word_count)          "
   ]
  }
 ],
 "metadata": {
  "kernelspec": {
   "display_name": "Python 3",
   "language": "python",
   "name": "python3"
  },
  "language_info": {
   "codemirror_mode": {
    "name": "ipython",
    "version": 3
   },
   "file_extension": ".py",
   "mimetype": "text/x-python",
   "name": "python",
   "nbconvert_exporter": "python",
   "pygments_lexer": "ipython3",
   "version": "3.13.0"
  }
 },
 "nbformat": 4,
 "nbformat_minor": 2
}
