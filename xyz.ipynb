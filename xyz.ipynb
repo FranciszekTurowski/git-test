{
 "cells": [
  {
   "cell_type": "code",
   "execution_count": 42,
   "metadata": {},
   "outputs": [
    {
     "name": "stdout",
     "output_type": "stream",
     "text": [
      "19 jest liczbą pierwszą\n"
     ]
    }
   ],
   "source": [
    "def check_first(x):\n",
    "    if x < 2: \n",
    "     return False\n",
    "    for i in range(2,int(x**0.5)+1):\n",
    "        if x % i == 0:\n",
    "         return False\n",
    "    return True\n",
    "\n",
    "n = 19\n",
    "if check_first(n):\n",
    "    print(f\"{n} jest liczbą pierwszą\")\n",
    "else:\n",
    "    print(f\"{n} nie jest liczbą pierwszą\")    \n",
    " \n",
    " #26.11.2024 godzina 11 zacząć oglądanie kamer\n",
    " #wyslac cv na informatyka\n",
    " \n",
    " \n",
    "       \n",
    "       \n",
    "\n",
    "    "
   ]
  },
  {
   "cell_type": "code",
   "execution_count": null,
   "metadata": {},
   "outputs": [],
   "source": [
    "wynik = 0\n",
    "for n in range (0,101,2):\n",
    "    wynik+=n\n",
    "    print('n = ',n)\n",
    "    print(wynik)"
   ]
  }
 ],
 "metadata": {
  "kernelspec": {
   "display_name": "Python 3",
   "language": "python",
   "name": "python3"
  },
  "language_info": {
   "codemirror_mode": {
    "name": "ipython",
    "version": 3
   },
   "file_extension": ".py",
   "mimetype": "text/x-python",
   "name": "python",
   "nbconvert_exporter": "python",
   "pygments_lexer": "ipython3",
   "version": "3.13.0"
  }
 },
 "nbformat": 4,
 "nbformat_minor": 2
}
