{
 "cells": [
  {
   "cell_type": "code",
   "execution_count": 42,
   "metadata": {},
   "outputs": [
    {
     "name": "stdout",
     "output_type": "stream",
     "text": [
      "19 jest liczbą pierwszą\n"
     ]
    }
   ],
   "source": [
    "def check_first(x):\n",
    "    if x < 2: \n",
    "     return False\n",
    "    for i in range(2,int(x**0.5)+1):\n",
    "        if x % i == 0:\n",
    "         return False\n",
    "    return True\n",
    "\n",
    "n = 19\n",
    "if check_first(n):\n",
    "    print(f\"{n} jest liczbą pierwszą\")\n",
    "else:\n",
    "    print(f\"{n} nie jest liczbą pierwszą\")    \n",
    " \n",
    " #26.11.2024 godzina 11 zacząć oglądanie kamer\n",
    " #wyslac cv na informatyka\n",
    " \n",
    " \n",
    "       \n",
    "       \n",
    "\n",
    "    "
   ]
  },
  {
   "cell_type": "code",
   "execution_count": null,
   "metadata": {},
   "outputs": [],
   "source": [
    "wynik = 0\n",
    "for n in range (0,101,2):\n",
    "    wynik+=n\n",
    "    print('n = ',n)\n",
    "    print(wynik)"
   ]
  },
  {
   "cell_type": "code",
   "execution_count": 8,
   "metadata": {},
   "outputs": [
    {
     "name": "stdout",
     "output_type": "stream",
     "text": [
      "****\n",
      "****\n",
      "****\n",
      "****\n",
      "****\n",
      "****\n",
      "****\n",
      "****\n",
      "****\n",
      "****\n"
     ]
    }
   ],
   "source": [
    "# Pętla w pętli :D\n",
    "for i in range(1,11):\n",
    "    for j in range(1,5):\n",
    "        print(\"*\",end=\"\")\n",
    "        \n",
    "    print()\n",
    "        \n",
    "        "
   ]
  },
  {
   "cell_type": "code",
   "execution_count": null,
   "metadata": {},
   "outputs": [],
   "source": [
    "# 3 zagnieżdżone pętle for trening!\n",
    "\n",
    "for i in range(0,2):\n",
    "    print(\"Teraz wykonuje się pętla I\")\n",
    "    for j in range(0,2):\n",
    "        print(\"Teraz wykonuje się pętla J\")\n",
    "        for k in range(0,2):\n",
    "            print(\"Teraz wykonuje się pętla K\")\n",
    "           # print(f\"i = {i}, j = {j}, k = {k}\")\n",
    "            \n",
    "            \n",
    "            \n",
    "        # 0 0 0\n",
    "        # 0 0 1\n",
    "        # 0 1 0\n",
    "        # 0 1 1\n",
    "        # 1 0 0\n",
    "        # 1 0 1\n",
    "        # 1 1 0\n",
    "        # 1 1 1\n",
    "               # I J K K  J K K I  J K K J  K K\n",
    "        "
   ]
  },
  {
   "cell_type": "code",
   "execution_count": null,
   "metadata": {},
   "outputs": [],
   "source": [
    "for i in range(0,2):\n",
    "    print(f\"Teraz wykonuje się pętla I = {i}\")\n",
    "    for j in range(0,2):\n",
    "        print(f\"Teraz wykonuje się pętla J = {j}\")\n",
    "        for k in range(0,2):\n",
    "            print(f\"Teraz wykonuje się pętla K = {k}\")\n",
    "            for v in range(0,2):\n",
    "                print(f\"Teraz wykonuje się pętla V = {v}\") \n",
    "    \n",
    "    # I J K V V   K V V J K   V V K V V  I J K V V  K V V J K  V V K V V\n",
    "    \n",
    "    # 0000\n",
    "    # 0001\n",
    "    # 0010\n",
    "    # 0011\n",
    "    # 0100\n",
    "    \n",
    "    # 0101\n",
    "    # 0110\n",
    "    # 0111\n",
    "    # 1000\n",
    "    # 1001\n",
    "    \n",
    "    # 1010\n",
    "    # 1011\n",
    "    # 1100\n",
    "    # 1101\n",
    "    # 1110\n",
    "    \n",
    "    # 1111           \n",
    "                "
   ]
  },
  {
   "cell_type": "code",
   "execution_count": null,
   "metadata": {},
   "outputs": [],
   "source": [
    "for i in range(0,3):\n",
    "    print(f\"teraz wykonuje się pętla i = {i}\")\n",
    "    for j in range(0,2):\n",
    "        print(f\"teraz wykonuje się pętla j = {j}\")\n",
    "        \n",
    "        \n",
    "# I j j  i jj ijj\n",
    "#00\n",
    "#01\n",
    "#10\n",
    "#11\n",
    "#20\n",
    "#21     "
   ]
  },
  {
   "cell_type": "code",
   "execution_count": null,
   "metadata": {},
   "outputs": [],
   "source": [
    "# Liczby od 2 do 100 bez licz pierwszych\n",
    "for i in range(2,101):\n",
    "    is_Prime = False\n",
    "    for j in range(2,i):\n",
    "        if i % j == 0:\n",
    "          is_Prime = True\n",
    "          break\n",
    "    if is_Prime:\n",
    "     print(i) \n",
    "          "
   ]
  },
  {
   "cell_type": "code",
   "execution_count": null,
   "metadata": {},
   "outputs": [],
   "source": [
    "# Liczby pierwsze od 2 do 100\n",
    " \n",
    "for i in range(2,100):\n",
    "    is_Prime = True\n",
    "    for j in range(2,i):\n",
    "        if i % j == 0:\n",
    "            is_Prime = False\n",
    "            break\n",
    "    if is_Prime:\n",
    "        print(i)     \n",
    "     "
   ]
  }
 ],
 "metadata": {
  "kernelspec": {
   "display_name": "Python 3",
   "language": "python",
   "name": "python3"
  },
  "language_info": {
   "codemirror_mode": {
    "name": "ipython",
    "version": 3
   },
   "file_extension": ".py",
   "mimetype": "text/x-python",
   "name": "python",
   "nbconvert_exporter": "python",
   "pygments_lexer": "ipython3",
   "version": "3.13.0"
  }
 },
 "nbformat": 4,
 "nbformat_minor": 2
}
