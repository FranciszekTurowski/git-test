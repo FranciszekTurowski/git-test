{
 "cells": [
  {
   "cell_type": "code",
   "execution_count": 42,
   "metadata": {},
   "outputs": [
    {
     "name": "stdout",
     "output_type": "stream",
     "text": [
      "19 jest liczbą pierwszą\n"
     ]
    }
   ],
   "source": [
    "def check_first(x):\n",
    "    if x < 2: \n",
    "     return False\n",
    "    for i in range(2,int(x**0.5)+1):\n",
    "        if x % i == 0:\n",
    "         return False\n",
    "    return True\n",
    "\n",
    "n = 19\n",
    "if check_first(n):\n",
    "    print(f\"{n} jest liczbą pierwszą\")\n",
    "else:\n",
    "    print(f\"{n} nie jest liczbą pierwszą\")    \n",
    " \n",
    " #26.11.2024 godzina 11 zacząć oglądanie kamer\n",
    " #wyslac cv na informatyka\n",
    " \n",
    " \n",
    "       \n",
    "       \n",
    "\n",
    "    "
   ]
  },
  {
   "cell_type": "code",
   "execution_count": null,
   "metadata": {},
   "outputs": [],
   "source": [
    "wynik = 0\n",
    "for n in range (0,101,2):\n",
    "    wynik+=n\n",
    "    print('n = ',n)\n",
    "    print(wynik)"
   ]
  },
  {
   "cell_type": "code",
   "execution_count": 8,
   "metadata": {},
   "outputs": [
    {
     "name": "stdout",
     "output_type": "stream",
     "text": [
      "****\n",
      "****\n",
      "****\n",
      "****\n",
      "****\n",
      "****\n",
      "****\n",
      "****\n",
      "****\n",
      "****\n"
     ]
    }
   ],
   "source": [
    "# Pętla w pętli :D\n",
    "for i in range(1,11):\n",
    "    for j in range(1,5):\n",
    "        print(\"*\",end=\"\")\n",
    "        \n",
    "    print()\n",
    "        \n",
    "        "
   ]
  },
  {
   "cell_type": "code",
   "execution_count": null,
   "metadata": {},
   "outputs": [],
   "source": [
    "# 3 zagnieżdżone pętle for trening!\n",
    "\n",
    "for i in range(0,2):\n",
    "    print(\"Teraz wykonuje się pętla I\")\n",
    "    for j in range(0,2):\n",
    "        print(\"Teraz wykonuje się pętla J\")\n",
    "        for k in range(0,2):\n",
    "            print(\"Teraz wykonuje się pętla K\")\n",
    "           # print(f\"i = {i}, j = {j}, k = {k}\")\n",
    "            \n",
    "            \n",
    "            \n",
    "        # 0 0 0\n",
    "        # 0 0 1\n",
    "        # 0 1 0\n",
    "        # 0 1 1\n",
    "        # 1 0 0\n",
    "        # 1 0 1\n",
    "        # 1 1 0\n",
    "        # 1 1 1\n",
    "               # I J K K  J K K I  J K K J  K K\n",
    "        "
   ]
  },
  {
   "cell_type": "code",
   "execution_count": null,
   "metadata": {},
   "outputs": [],
   "source": [
    "for i in range(0,2):\n",
    "    print(f\"Teraz wykonuje się pętla I = {i}\")\n",
    "    for j in range(0,2):\n",
    "        print(f\"Teraz wykonuje się pętla J = {j}\")\n",
    "        for k in range(0,2):\n",
    "            print(f\"Teraz wykonuje się pętla K = {k}\")\n",
    "            for v in range(0,2):\n",
    "                print(f\"Teraz wykonuje się pętla V = {v}\") \n",
    "    \n",
    "    # I J K V V   K V V J K   V V K V V  I J K V V  K V V J K  V V K V V\n",
    "    \n",
    "    # 0000\n",
    "    # 0001\n",
    "    # 0010\n",
    "    # 0011\n",
    "    # 0100\n",
    "    \n",
    "    # 0101\n",
    "    # 0110\n",
    "    # 0111\n",
    "    # 1000\n",
    "    # 1001\n",
    "    \n",
    "    # 1010\n",
    "    # 1011\n",
    "    # 1100\n",
    "    # 1101\n",
    "    # 1110\n",
    "    \n",
    "    # 1111           \n",
    "                "
   ]
  },
  {
   "cell_type": "code",
   "execution_count": null,
   "metadata": {},
   "outputs": [],
   "source": [
    "for i in range(0,3):\n",
    "    print(f\"teraz wykonuje się pętla i = {i}\")\n",
    "    for j in range(0,2):\n",
    "        print(f\"teraz wykonuje się pętla j = {j}\")\n",
    "        \n",
    "        \n",
    "# Ijj  i jj ijj\n",
    "#00\n",
    "#01\n",
    "#10\n",
    "#11\n",
    "#20\n",
    "#21     "
   ]
  },
  {
   "cell_type": "code",
   "execution_count": null,
   "metadata": {},
   "outputs": [],
   "source": [
    "# Liczby od 2 do 100 bez licz pierwszych\n",
    "for i in range(2,101):\n",
    "    is_Prime = False\n",
    "    for j in range(2,i):\n",
    "        if i % j == 0:\n",
    "          is_Prime = True\n",
    "          break\n",
    "    if is_Prime:\n",
    "     print(i) \n",
    "          "
   ]
  },
  {
   "cell_type": "code",
   "execution_count": null,
   "metadata": {},
   "outputs": [],
   "source": [
    "# Liczby pierwsze od 2 do 100\n",
    " \n",
    "for i in range(2,100):\n",
    "    is_Prime = True\n",
    "    for j in range(2,i):\n",
    "        if i % j == 0:\n",
    "            is_Prime = False\n",
    "            break\n",
    "    if is_Prime:\n",
    "        print(i)     \n",
    "     "
   ]
  },
  {
   "cell_type": "code",
   "execution_count": null,
   "metadata": {},
   "outputs": [],
   "source": [
    "for i in range(0,4):\n",
    "    for j in range(0,3):\n",
    "        for k in range(0,2):\n",
    "            print(f'Wynik to {i}{j}{k}')\n",
    "            \n",
    "\n",
    "            \n",
    " #000\n",
    " #001\n",
    " #010\n",
    " #011\n",
    " #020\n",
    " #021\n",
    " #100\n",
    " #101\n",
    " #110\n",
    " #111\n",
    " #120\n",
    " #121\n",
    " #200\n",
    " #201\n",
    " #210\n",
    " #211\n",
    " #220\n",
    " #221\n",
    " #300\n",
    " #301\n",
    " #310\n",
    " #311\n",
    " #320\n",
    " #321\n",
    "\n",
    "           \n",
    "            "
   ]
  },
  {
   "cell_type": "code",
   "execution_count": null,
   "metadata": {},
   "outputs": [],
   "source": [
    "i = 5\n",
    "\n",
    "while i >-1:\n",
    "    i-=1\n",
    "    print(i)\n",
    "    "
   ]
  },
  {
   "cell_type": "code",
   "execution_count": null,
   "metadata": {},
   "outputs": [],
   "source": [
    "i = 3\n",
    "j = 2\n",
    "\n",
    "while i > 0:\n",
    "    j = 2\n",
    "    while j > 0:\n",
    "        j = j -1\n",
    "        print(f'j={j},i={i}')\n",
    "    i= i - 1\n",
    "    print(f'j={j},i={i}')  \n",
    "    "
   ]
  },
  {
   "cell_type": "code",
   "execution_count": null,
   "metadata": {},
   "outputs": [],
   "source": [
    "i = 3\n",
    "j = 3\n",
    "\n",
    "while i > 0:\n",
    "    j = 3\n",
    "    while j > 0:\n",
    "        j = j -1\n",
    "        print(f'i={i},j={j}')\n",
    "    i= i - 1\n",
    "    print(f'zewnetrzna : i={i},j={j}')  \n",
    "    \n",
    "    \n",
    "\n",
    "\n",
    "    "
   ]
  },
  {
   "cell_type": "code",
   "execution_count": null,
   "metadata": {},
   "outputs": [],
   "source": [
    "i = 3\n",
    "j = 3\n",
    "\n",
    "while i > 0:\n",
    "    j = 3\n",
    "    while j > 0:\n",
    "        print(f'i={i},j={j}')\n",
    "        j = j -1\n",
    "    print(f'zewnętrzna i={i},j={j}')\n",
    "    i = i - 1\n",
    "    \n",
    "#33\n",
    "#32\n",
    "#31\n",
    "#zew 30\n",
    "#23\n",
    "#22\n",
    "#21\n",
    "#zew 20    \n",
    "       \n"
   ]
  },
  {
   "cell_type": "code",
   "execution_count": null,
   "metadata": {},
   "outputs": [],
   "source": []
  },
  {
   "cell_type": "code",
   "execution_count": null,
   "metadata": {},
   "outputs": [],
   "source": [
    "i = 0\n",
    "\n",
    "while i < 50:\n",
    "    i+= 1\n",
    "    if i == 3:\n",
    "        continue\n",
    "    #print(i)\n",
    "    if i == 20:\n",
    "        break\n",
    "    print(i)\n",
    "    "
   ]
  },
  {
   "cell_type": "code",
   "execution_count": 26,
   "metadata": {},
   "outputs": [
    {
     "name": "stdout",
     "output_type": "stream",
     "text": [
      "i=3,j=2\n",
      "i=3,j=0\n",
      " zew i=2,j=0\n",
      "i=2,j=2\n",
      "i=2,j=0\n",
      "i=1,j=2\n",
      "i=1,j=0\n",
      " zew i=0,j=0\n"
     ]
    }
   ],
   "source": [
    "i = 3\n",
    "j = 3\n",
    "\n",
    "while i > 0:\n",
    "    j = 3\n",
    "    while j > 0:\n",
    "     j = j - 1\n",
    "     if j % 2 != 0:\n",
    "         continue\n",
    "     else:\n",
    "        print(f\"i={i},j={j}\")\n",
    "        \n",
    "    i = i - 1 \n",
    "    if i % 2 != 0:\n",
    "         continue\n",
    "    else:\n",
    "        print(f\" zew i={i},j={j}\")    \n",
    "    "
   ]
  }
 ],
 "metadata": {
  "kernelspec": {
   "display_name": "Python 3",
   "language": "python",
   "name": "python3"
  },
  "language_info": {
   "codemirror_mode": {
    "name": "ipython",
    "version": 3
   },
   "file_extension": ".py",
   "mimetype": "text/x-python",
   "name": "python",
   "nbconvert_exporter": "python",
   "pygments_lexer": "ipython3",
   "version": "3.13.0"
  }
 },
 "nbformat": 4,
 "nbformat_minor": 2
}
