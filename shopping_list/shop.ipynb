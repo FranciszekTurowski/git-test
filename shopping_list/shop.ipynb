{
 "cells": [
  {
   "cell_type": "code",
   "execution_count": 27,
   "metadata": {},
   "outputs": [
    {
     "name": "stdout",
     "output_type": "stream",
     "text": [
      "WITAM W LIŚCIE ZAKUPÓW\n",
      "POWIEDZ CO CHCESZ ZROBIĆ:\n"
     ]
    }
   ],
   "source": [
    "with open('shop_list.txt','w+') as shp:\n",
    "    dodaj = str(input('Podaj do chcesz dodać do listy zakupów!!!: '))\n",
    "    wyn = shp.write(dodaj)\n",
    "   #   lista_zakupow = shp.readlines()\n",
    "\n",
    "    print('WITAM W LIŚCIE ZAKUPÓW')\n",
    "    print('POWIEDZ CO CHCESZ ZROBIĆ:')\n",
    "\n",
    "wybor = input(\"Podaj którą opcję chcesz wykonać! \")\n",
    "lista_zak = [2,3]\n",
    "\n",
    "# for l in lista_zak:\n",
    "#     print(lista_zak)\n",
    "\n",
    "\n",
    "if wybor == 1:\n",
    "    print(lista_zak)\n",
    "if wybor == 2:\n",
    "     print(wyn)\n",
    "#if wybor == 3:\n",
    "         "
   ]
  },
  {
   "cell_type": "code",
   "execution_count": 60,
   "metadata": {},
   "outputs": [
    {
     "name": "stdout",
     "output_type": "stream",
     "text": [
      "1. Wyświetl listę zakupów\n",
      "2. Dodaj nową pozycję\n",
      "3. Usuń pozycję\n",
      "4. Zakończ program\n",
      "\n"
     ]
    }
   ],
   "source": [
    "import sys\n",
    "\n",
    "def display():\n",
    "    try:\n",
    "        with open('shop_list.txt') as file:\n",
    "            print(file.read())\n",
    "    except FileNotFoundError:\n",
    "        print(\"Plik z listą zakupów jeszcze nie istnieje!\")        \n",
    "    \n",
    "\n",
    "def add():\n",
    "    with open('shop_list.txt','a') as file :\n",
    "        item = input(\"Podaj pozycję, którą= chcesz dodać: \")\n",
    "        file.write(item+ \"\\n\")\n",
    "\n",
    "\n",
    "def delete():\n",
    "    new_shopping_list = []\n",
    "     \n",
    "     \n",
    "    try:  \n",
    "        with open('shop_list.txt','r+') as file :\n",
    "           for line in file.readlines():\n",
    "               new_shopping_list.append(line.strip())\n",
    "\n",
    "        item = input(\"Podaj pozycję do usunięcia!: \")\n",
    "        new_shopping_list.remove(item)\n",
    "        \n",
    "        file.seek(0)\n",
    "        for item in new_shopping_list:\n",
    "            file.write(item+ \"\\n\")\n",
    "            \n",
    "        file.truncate()   \n",
    "    except FileNotFoundError:\n",
    "            print(\"Plik z listą zakupów jeszcze nie istnieje\") \n",
    "            return \n",
    "            \n",
    "  \n",
    "    \n",
    "                    \n",
    "while True:\n",
    "    print(\"1. Wyświetl listę zakupów\")\n",
    "    print(\"2. Dodaj nową pozycję\")\n",
    "    print(\"3. Usuń pozycję\")\n",
    "    print(\"4. Zakończ program\")\n",
    "    print()\n",
    "    \n",
    "    try:\n",
    "        option = int(input(\"Wybierz jedną z opcji (1-4): \"))\n",
    "        if option == 1:\n",
    "            display()\n",
    "        elif option == 2:\n",
    "            add()\n",
    "        elif option == 3:\n",
    "            delete()      \n",
    "        elif option == 4:\n",
    "            sys.exit()\n",
    "        else:\n",
    "            print(\"Nie znam takiej opcji!\")    \n",
    "    except ValueError:\n",
    "            print(\"Podaj liczbę!\") \n",
    "           \n",
    "   \n",
    "        "
   ]
  }
 ],
 "metadata": {
  "kernelspec": {
   "display_name": "Python 3",
   "language": "python",
   "name": "python3"
  },
  "language_info": {
   "codemirror_mode": {
    "name": "ipython",
    "version": 3
   },
   "file_extension": ".py",
   "mimetype": "text/x-python",
   "name": "python",
   "nbconvert_exporter": "python",
   "pygments_lexer": "ipython3",
   "version": "3.13.0"
  }
 },
 "nbformat": 4,
 "nbformat_minor": 2
}
